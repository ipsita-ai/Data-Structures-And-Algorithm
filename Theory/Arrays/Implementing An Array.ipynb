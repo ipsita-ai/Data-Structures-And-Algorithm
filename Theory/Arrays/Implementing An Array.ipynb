{
 "cells": [
  {
   "cell_type": "code",
   "execution_count": 88,
   "id": "02875286",
   "metadata": {},
   "outputs": [],
   "source": [
    "# ctypes is a foreign function library for Python. It provides C compatible data types\n",
    "import ctypes"
   ]
  },
  {
   "cell_type": "code",
   "execution_count": 480,
   "id": "7983c575",
   "metadata": {},
   "outputs": [],
   "source": [
    "class Array:\n",
    "    \n",
    "    def __init__(self):\n",
    "        self.size = 1\n",
    "        self.items = 0\n",
    "        self.a = self.__createarray(self.size)\n",
    "    def __createarray(self,capacity):\n",
    "        return (capacity*ctypes.py_object)()\n",
    "    def __len__(self):\n",
    "        return self.items     \n",
    "    def __str__(self):\n",
    "        result = ''\n",
    "        for i in range(self.items):\n",
    "            result = result + str(self.a[i]) + ','\n",
    "        return '[' + result[:-1] + ']'\n",
    "    def append(self,n):\n",
    "        if self.items == self.size:\n",
    "            # resize\n",
    "            self.__resize(self.size*2)  \n",
    "        self.a[self.items] = n\n",
    "        self.items += 1\n",
    "    def __resize(self,new_capacity):\n",
    "        b = self.__createarray(new_capacity)\n",
    "        self.size = new_capacity\n",
    "        # copy content of a to b\n",
    "        for i in range(self.items):\n",
    "            b[i] = self.a[i]\n",
    "        # reassign\n",
    "        self.a = b \n",
    "    def getitem__(self,index):\n",
    "        if 0 < index < self.items:\n",
    "            return self.a[index]\n",
    "        else:\n",
    "            return 'Index Error: Index Out Of Range'\n",
    "    def pop(self):\n",
    "        if self.items == 0:\n",
    "            return 'Empty List'\n",
    "        print(self.a[self.items - 1])\n",
    "        self.items = self.items - 1\n",
    "    def clear(self):\n",
    "        self.items = 0\n",
    "        self.size = 1\n",
    "    def find(self,n):\n",
    "        for i in range(self.items):\n",
    "            if self.a[i] == n:\n",
    "                return i\n",
    "        return 'Value Error - Not found in the list'\n",
    "    def insert(self,pos,n):\n",
    "        if self.items == self.size:\n",
    "            self.__resize(self.size*2)\n",
    "        for i in range(self.items,pos,-1):\n",
    "            self.a[i] = self.a[i-1]\n",
    "        self.a[pos] = n\n",
    "        self.items = self.items + 1\n",
    "    def __delitem__(self,pos):\n",
    "        for i in range(pos,self.items -1):\n",
    "            self.a[i] = self.a[i+1]\n",
    "        self.items = self.items -1\n",
    "    def remove(self,n):\n",
    "        pos = self.find(n)\n",
    "        \n",
    "        if type(pos) == int:\n",
    "            #delete\n",
    "            self.__delitem__(pos)\n",
    "        else:\n",
    "            return pos\n",
    "    def sort(self):\n",
    "        for i in range(self.items):\n",
    "            for j in range(i+1,self.items):\n",
    "                if self.a[i] > self.a[j]:\n",
    "                    temp = self.a[j]\n",
    "                    self.a[j] = self.a[i]\n",
    "                    self.a[i] = temp\n",
    "    def max(self):\n",
    "        self.sort()\n",
    "        return self.a[-1]\n",
    "    def min(self):\n",
    "        self.sort()\n",
    "        return self.a[0]\n",
    "    \n",
    "    def slice(self,l_index,h_index):\n",
    "        for i in range(l_index,h_index):\n",
    "            print(self.a[i])\n"
   ]
  },
  {
   "cell_type": "code",
   "execution_count": 481,
   "id": "00c87044",
   "metadata": {},
   "outputs": [],
   "source": [
    "x = Array()"
   ]
  },
  {
   "cell_type": "code",
   "execution_count": 482,
   "id": "2caeb386",
   "metadata": {},
   "outputs": [
    {
     "data": {
      "text/plain": [
       "0"
      ]
     },
     "execution_count": 482,
     "metadata": {},
     "output_type": "execute_result"
    }
   ],
   "source": [
    "x.items"
   ]
  },
  {
   "cell_type": "code",
   "execution_count": 483,
   "id": "00c1db09",
   "metadata": {},
   "outputs": [
    {
     "data": {
      "text/plain": [
       "1"
      ]
     },
     "execution_count": 483,
     "metadata": {},
     "output_type": "execute_result"
    }
   ],
   "source": [
    "x.size"
   ]
  },
  {
   "cell_type": "code",
   "execution_count": 484,
   "id": "9c558d21",
   "metadata": {},
   "outputs": [],
   "source": [
    "x.append(10)"
   ]
  },
  {
   "cell_type": "code",
   "execution_count": 485,
   "id": "7a9f23a7",
   "metadata": {},
   "outputs": [
    {
     "data": {
      "text/plain": [
       "1"
      ]
     },
     "execution_count": 485,
     "metadata": {},
     "output_type": "execute_result"
    }
   ],
   "source": [
    "x.size"
   ]
  },
  {
   "cell_type": "code",
   "execution_count": 486,
   "id": "88244c1c",
   "metadata": {},
   "outputs": [
    {
     "name": "stdout",
     "output_type": "stream",
     "text": [
      "[10]\n"
     ]
    }
   ],
   "source": [
    "print(x)"
   ]
  },
  {
   "cell_type": "code",
   "execution_count": 487,
   "id": "f24c99c9",
   "metadata": {},
   "outputs": [
    {
     "data": {
      "text/plain": [
       "1"
      ]
     },
     "execution_count": 487,
     "metadata": {},
     "output_type": "execute_result"
    }
   ],
   "source": [
    "len(x)"
   ]
  },
  {
   "cell_type": "code",
   "execution_count": 488,
   "id": "4583e79a",
   "metadata": {},
   "outputs": [],
   "source": [
    "x.insert(1,1100)"
   ]
  },
  {
   "cell_type": "code",
   "execution_count": 489,
   "id": "294b6de1",
   "metadata": {},
   "outputs": [
    {
     "name": "stdout",
     "output_type": "stream",
     "text": [
      "[10,1100]\n"
     ]
    }
   ],
   "source": [
    "print(x)"
   ]
  },
  {
   "cell_type": "code",
   "execution_count": 490,
   "id": "c41a5b77",
   "metadata": {},
   "outputs": [],
   "source": [
    "x.append(110)"
   ]
  },
  {
   "cell_type": "code",
   "execution_count": 491,
   "id": "79953739",
   "metadata": {},
   "outputs": [],
   "source": [
    "x.append(0)"
   ]
  },
  {
   "cell_type": "code",
   "execution_count": 492,
   "id": "e7dac251",
   "metadata": {},
   "outputs": [
    {
     "name": "stdout",
     "output_type": "stream",
     "text": [
      "[10,1100,110,0]\n"
     ]
    }
   ],
   "source": [
    "print(x)"
   ]
  },
  {
   "cell_type": "code",
   "execution_count": 493,
   "id": "9b521be2",
   "metadata": {},
   "outputs": [],
   "source": [
    "x.sort()"
   ]
  },
  {
   "cell_type": "code",
   "execution_count": 494,
   "id": "2ca0855e",
   "metadata": {},
   "outputs": [
    {
     "name": "stdout",
     "output_type": "stream",
     "text": [
      "[0,10,110,1100]\n"
     ]
    }
   ],
   "source": [
    "print(x)"
   ]
  },
  {
   "cell_type": "code",
   "execution_count": 495,
   "id": "5cfec82d",
   "metadata": {},
   "outputs": [
    {
     "data": {
      "text/plain": [
       "1100"
      ]
     },
     "execution_count": 495,
     "metadata": {},
     "output_type": "execute_result"
    }
   ],
   "source": [
    "x.max()"
   ]
  },
  {
   "cell_type": "code",
   "execution_count": 496,
   "id": "c4d8664e",
   "metadata": {},
   "outputs": [
    {
     "data": {
      "text/plain": [
       "0"
      ]
     },
     "execution_count": 496,
     "metadata": {},
     "output_type": "execute_result"
    }
   ],
   "source": [
    "x.min()"
   ]
  },
  {
   "cell_type": "code",
   "execution_count": 497,
   "id": "c58cea16",
   "metadata": {},
   "outputs": [],
   "source": [
    "x.append(200)"
   ]
  },
  {
   "cell_type": "code",
   "execution_count": 498,
   "id": "b1217abe",
   "metadata": {},
   "outputs": [],
   "source": [
    "x.append(-1)"
   ]
  },
  {
   "cell_type": "code",
   "execution_count": 499,
   "id": "718a5b53",
   "metadata": {},
   "outputs": [
    {
     "data": {
      "text/plain": [
       "-1"
      ]
     },
     "execution_count": 499,
     "metadata": {},
     "output_type": "execute_result"
    }
   ],
   "source": [
    "x.min()"
   ]
  },
  {
   "cell_type": "code",
   "execution_count": 500,
   "id": "e50f710b",
   "metadata": {},
   "outputs": [
    {
     "name": "stdout",
     "output_type": "stream",
     "text": [
      "[-1,0,10,110,200,1100]\n"
     ]
    }
   ],
   "source": [
    "print(x)"
   ]
  },
  {
   "cell_type": "code",
   "execution_count": 501,
   "id": "5e68f43c",
   "metadata": {},
   "outputs": [
    {
     "name": "stdout",
     "output_type": "stream",
     "text": [
      "-1\n",
      "0\n",
      "10\n",
      "None\n"
     ]
    }
   ],
   "source": [
    "print(x.slice(0,3))"
   ]
  },
  {
   "cell_type": "code",
   "execution_count": 502,
   "id": "a31fc7b1",
   "metadata": {},
   "outputs": [
    {
     "name": "stdout",
     "output_type": "stream",
     "text": [
      "[-1,0,10,110,200,1100]\n"
     ]
    }
   ],
   "source": [
    "print(x)"
   ]
  },
  {
   "cell_type": "code",
   "execution_count": null,
   "id": "f741660b",
   "metadata": {},
   "outputs": [],
   "source": []
  },
  {
   "cell_type": "code",
   "execution_count": null,
   "id": "603c35da",
   "metadata": {},
   "outputs": [],
   "source": []
  },
  {
   "cell_type": "code",
   "execution_count": null,
   "id": "a72f1218",
   "metadata": {},
   "outputs": [],
   "source": []
  },
  {
   "cell_type": "code",
   "execution_count": null,
   "id": "8fb3f802",
   "metadata": {},
   "outputs": [],
   "source": []
  },
  {
   "cell_type": "code",
   "execution_count": null,
   "id": "a401ada2",
   "metadata": {},
   "outputs": [],
   "source": []
  },
  {
   "cell_type": "code",
   "execution_count": null,
   "id": "acb8990e",
   "metadata": {},
   "outputs": [],
   "source": []
  },
  {
   "cell_type": "code",
   "execution_count": null,
   "id": "e29125a8",
   "metadata": {},
   "outputs": [],
   "source": []
  },
  {
   "cell_type": "code",
   "execution_count": null,
   "id": "d549ab81",
   "metadata": {},
   "outputs": [],
   "source": []
  },
  {
   "cell_type": "code",
   "execution_count": null,
   "id": "47a53e15",
   "metadata": {},
   "outputs": [],
   "source": []
  }
 ],
 "metadata": {
  "kernelspec": {
   "display_name": "Python 3 (ipykernel)",
   "language": "python",
   "name": "python3"
  },
  "language_info": {
   "codemirror_mode": {
    "name": "ipython",
    "version": 3
   },
   "file_extension": ".py",
   "mimetype": "text/x-python",
   "name": "python",
   "nbconvert_exporter": "python",
   "pygments_lexer": "ipython3",
   "version": "3.11.4"
  }
 },
 "nbformat": 4,
 "nbformat_minor": 5
}
