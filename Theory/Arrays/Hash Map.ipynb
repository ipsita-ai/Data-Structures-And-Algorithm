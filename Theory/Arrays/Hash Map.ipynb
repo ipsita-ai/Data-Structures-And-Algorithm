{
 "cells": [
  {
   "cell_type": "code",
   "execution_count": 3,
   "id": "f117984b",
   "metadata": {},
   "outputs": [],
   "source": [
    "def get_hash(key):\n",
    "    hash_val = 0\n",
    "    for ch in key:\n",
    "        hash_val += ord(ch)\n",
    "    return (hash_val%100)   "
   ]
  },
  {
   "cell_type": "code",
   "execution_count": 7,
   "id": "95b483cb",
   "metadata": {},
   "outputs": [
    {
     "data": {
      "text/plain": [
       "61"
      ]
     },
     "execution_count": 7,
     "metadata": {},
     "output_type": "execute_result"
    }
   ],
   "source": [
    "get_hash('march 19')"
   ]
  },
  {
   "cell_type": "code",
   "execution_count": 83,
   "id": "dd45a131",
   "metadata": {},
   "outputs": [],
   "source": [
    "class AnotherDictionary():\n",
    "    def __init__(self):\n",
    "        self.max = 100\n",
    "        self.arr = [None for i in range(self.max)]\n",
    "        self.keys = []   \n",
    "        \n",
    "    def get_hash(self,key):\n",
    "        hash_val = 0\n",
    "        for ch in key:\n",
    "            hash_val += ord(ch)\n",
    "        a = hash_val%100\n",
    "        return a\n",
    "    def create_another_dict(self,key,val):\n",
    "        self.keys.append(key)\n",
    "        if self.arr[self.get_hash(key)] != None:\n",
    "            print('Value already exists.Do you still want to update')\n",
    "            b = input('Enter Y or N')\n",
    "            if b == 'Y':\n",
    "                self.arr[self.get_hash(key)] = val\n",
    "            else:\n",
    "                print('Ok this dictionary is not updated')\n",
    "        else:\n",
    "            self.arr[self.get_hash(key)] = val\n",
    "    def keys(self):\n",
    "        return self.keys\n",
    "    def __setitem__(self,key,val):\n",
    "        self.keys.append(key)\n",
    "        self.arr[self.get_hash(key)] = val\n",
    "    def __getitem__(self,key):\n",
    "        return self.arr[self.get_hash(key)]\n",
    "    def __str__(self):\n",
    "        start = '{'\n",
    "        end = '}'\n",
    "        a = ''\n",
    "        for i in self.keys:\n",
    "            a += \"'{}'\".format(i) + ':' + '{}'.format(self.arr[self.get_hash(i)]) + ','\n",
    "        return start + a[:-1] + end"
   ]
  },
  {
   "cell_type": "code",
   "execution_count": 84,
   "id": "1db5d1de",
   "metadata": {},
   "outputs": [],
   "source": [
    "x = AnotherDictionary()"
   ]
  },
  {
   "cell_type": "code",
   "execution_count": 85,
   "id": "8113b3a2",
   "metadata": {},
   "outputs": [],
   "source": [
    "x.create_another_dict('March 9',123)"
   ]
  },
  {
   "cell_type": "code",
   "execution_count": 86,
   "id": "7793eb30",
   "metadata": {},
   "outputs": [],
   "source": [
    "x['March 10'] = 156\n",
    "x['March 11'] = 165\n",
    "x['March 12'] = 170\n",
    "x['March 13'] = 174"
   ]
  },
  {
   "cell_type": "code",
   "execution_count": 87,
   "id": "7337092a",
   "metadata": {},
   "outputs": [],
   "source": [
    "x.create_another_dict('March 14',198)"
   ]
  },
  {
   "cell_type": "code",
   "execution_count": 88,
   "id": "dc2f710f",
   "metadata": {},
   "outputs": [
    {
     "name": "stdout",
     "output_type": "stream",
     "text": [
      "{'March 9':123,'March 10':156,'March 11':165,'March 12':170,'March 13':174,'March 14':198}\n"
     ]
    }
   ],
   "source": [
    "print(x)"
   ]
  },
  {
   "cell_type": "code",
   "execution_count": 89,
   "id": "c287150b",
   "metadata": {},
   "outputs": [
    {
     "data": {
      "text/plain": [
       "[None,\n",
       " None,\n",
       " None,\n",
       " None,\n",
       " None,\n",
       " None,\n",
       " None,\n",
       " None,\n",
       " None,\n",
       " None,\n",
       " None,\n",
       " None,\n",
       " None,\n",
       " None,\n",
       " None,\n",
       " None,\n",
       " None,\n",
       " None,\n",
       " None,\n",
       " None,\n",
       " 156,\n",
       " 165,\n",
       " 170,\n",
       " 174,\n",
       " 198,\n",
       " None,\n",
       " None,\n",
       " None,\n",
       " None,\n",
       " None,\n",
       " None,\n",
       " None,\n",
       " None,\n",
       " None,\n",
       " None,\n",
       " None,\n",
       " None,\n",
       " None,\n",
       " None,\n",
       " None,\n",
       " None,\n",
       " None,\n",
       " None,\n",
       " None,\n",
       " None,\n",
       " None,\n",
       " None,\n",
       " None,\n",
       " None,\n",
       " None,\n",
       " None,\n",
       " None,\n",
       " None,\n",
       " None,\n",
       " None,\n",
       " None,\n",
       " None,\n",
       " None,\n",
       " None,\n",
       " None,\n",
       " None,\n",
       " None,\n",
       " None,\n",
       " None,\n",
       " None,\n",
       " None,\n",
       " None,\n",
       " None,\n",
       " None,\n",
       " None,\n",
       " None,\n",
       " None,\n",
       " None,\n",
       " None,\n",
       " None,\n",
       " None,\n",
       " None,\n",
       " None,\n",
       " None,\n",
       " None,\n",
       " 123,\n",
       " None,\n",
       " None,\n",
       " None,\n",
       " None,\n",
       " None,\n",
       " None,\n",
       " None,\n",
       " None,\n",
       " None,\n",
       " None,\n",
       " None,\n",
       " None,\n",
       " None,\n",
       " None,\n",
       " None,\n",
       " None,\n",
       " None,\n",
       " None,\n",
       " None]"
      ]
     },
     "execution_count": 89,
     "metadata": {},
     "output_type": "execute_result"
    }
   ],
   "source": [
    "x.arr"
   ]
  },
  {
   "cell_type": "code",
   "execution_count": null,
   "id": "cef0504c",
   "metadata": {},
   "outputs": [],
   "source": []
  }
 ],
 "metadata": {
  "kernelspec": {
   "display_name": "Python 3 (ipykernel)",
   "language": "python",
   "name": "python3"
  },
  "language_info": {
   "codemirror_mode": {
    "name": "ipython",
    "version": 3
   },
   "file_extension": ".py",
   "mimetype": "text/x-python",
   "name": "python",
   "nbconvert_exporter": "python",
   "pygments_lexer": "ipython3",
   "version": "3.11.3"
  }
 },
 "nbformat": 4,
 "nbformat_minor": 5
}
