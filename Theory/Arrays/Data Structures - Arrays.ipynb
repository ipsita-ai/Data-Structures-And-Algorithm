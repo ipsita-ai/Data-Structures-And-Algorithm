{
 "cells": [
  {
   "cell_type": "code",
   "execution_count": 7,
   "id": "ddf1d37b",
   "metadata": {},
   "outputs": [],
   "source": [
    "str_arr = ['a','b','c','d']"
   ]
  },
  {
   "cell_type": "code",
   "execution_count": 17,
   "id": "f66a2128",
   "metadata": {},
   "outputs": [
    {
     "data": {
      "text/plain": [
       "'a'"
      ]
     },
     "execution_count": 17,
     "metadata": {},
     "output_type": "execute_result"
    }
   ],
   "source": [
    "str_arr[0] # O(1)"
   ]
  },
  {
   "cell_type": "code",
   "execution_count": 3,
   "id": "e5778ddc",
   "metadata": {},
   "outputs": [
    {
     "data": {
      "text/plain": [
       "50"
      ]
     },
     "execution_count": 3,
     "metadata": {},
     "output_type": "execute_result"
    }
   ],
   "source": [
    "import sys\n",
    "sys.getsizeof(str_arr[0])"
   ]
  },
  {
   "cell_type": "code",
   "execution_count": 4,
   "id": "0dd2b138",
   "metadata": {},
   "outputs": [
    {
     "data": {
      "text/plain": [
       "50"
      ]
     },
     "execution_count": 4,
     "metadata": {},
     "output_type": "execute_result"
    }
   ],
   "source": [
    "sys.getsizeof('a')"
   ]
  },
  {
   "cell_type": "code",
   "execution_count": 8,
   "id": "3f79f854",
   "metadata": {},
   "outputs": [],
   "source": [
    "# Array push operation\n",
    "str_arr.append('e') # O(1)"
   ]
  },
  {
   "cell_type": "code",
   "execution_count": 9,
   "id": "8ced3418",
   "metadata": {},
   "outputs": [
    {
     "data": {
      "text/plain": [
       "['a', 'b', 'c', 'd', 'e']"
      ]
     },
     "execution_count": 9,
     "metadata": {},
     "output_type": "execute_result"
    }
   ],
   "source": [
    "str_arr"
   ]
  },
  {
   "cell_type": "code",
   "execution_count": 10,
   "id": "cb16e4e3",
   "metadata": {},
   "outputs": [
    {
     "data": {
      "text/plain": [
       "'e'"
      ]
     },
     "execution_count": 10,
     "metadata": {},
     "output_type": "execute_result"
    }
   ],
   "source": [
    "# Array pop operation\n",
    "str_arr.pop()"
   ]
  },
  {
   "cell_type": "code",
   "execution_count": 19,
   "id": "4eacfd78",
   "metadata": {},
   "outputs": [],
   "source": [
    "str_arr.insert(1,'e') #O(n)"
   ]
  },
  {
   "cell_type": "code",
   "execution_count": 15,
   "id": "fba1c198",
   "metadata": {},
   "outputs": [
    {
     "data": {
      "text/plain": [
       "['a', 'e', 'b', 'c', 'd']"
      ]
     },
     "execution_count": 15,
     "metadata": {},
     "output_type": "execute_result"
    }
   ],
   "source": [
    "str_arr"
   ]
  },
  {
   "cell_type": "code",
   "execution_count": 20,
   "id": "be4b4503",
   "metadata": {},
   "outputs": [],
   "source": [
    "int_arr = [1,2,3,4,5]"
   ]
  },
  {
   "cell_type": "code",
   "execution_count": 21,
   "id": "1fcfeadb",
   "metadata": {},
   "outputs": [
    {
     "data": {
      "text/plain": [
       "28"
      ]
     },
     "execution_count": 21,
     "metadata": {},
     "output_type": "execute_result"
    }
   ],
   "source": [
    "sys.getsizeof(int_arr[0])"
   ]
  },
  {
   "cell_type": "code",
   "execution_count": 22,
   "id": "dd6add3f",
   "metadata": {},
   "outputs": [
    {
     "data": {
      "text/plain": [
       "28"
      ]
     },
     "execution_count": 22,
     "metadata": {},
     "output_type": "execute_result"
    }
   ],
   "source": [
    "sys.getsizeof(0)"
   ]
  },
  {
   "cell_type": "code",
   "execution_count": 23,
   "id": "17afa252",
   "metadata": {},
   "outputs": [
    {
     "name": "stdout",
     "output_type": "stream",
     "text": [
      "{'length': 5, 'data': {0: 3, 1: 'hi', 2: 34, 3: 'hey', 4: 'welcome'}}\n"
     ]
    }
   ],
   "source": [
    "class Array:\n",
    "    def __init__(self):\n",
    "        self.length=0\n",
    "        self.data={}\n",
    "    def __str__(self):\n",
    "        return str(self.__dict__)\n",
    "\n",
    "    def get(self,index):\n",
    "        return self.data[index]\n",
    "  \n",
    "    def push(self,item):\n",
    "        self.data[self.length]=item\n",
    "        self.length+=1\n",
    "\n",
    "    def pop(self):\n",
    "        lastitem = self.data[self.length-1]\n",
    "        del self.data[self.length-1]\n",
    "        self.length-=1\n",
    "        return lastitem\n",
    "\n",
    "    def delete(self,index):\n",
    "        deleteditem = self.data[index]\n",
    "        for i in range(index,self.length-1):\n",
    "            self.data[i] = self.data[i+1]\n",
    "\n",
    "        del self.data[self.length-1]\n",
    "        self.length-=1\n",
    "        return deleteditem\n",
    "\n",
    "arr=Array()\n",
    "arr.push(3)\n",
    "arr.push('hi')\n",
    "arr.push(34)\n",
    "arr.push(20)\n",
    "arr.push('hey')\n",
    "arr.push('welcome')\n",
    "arr.delete(3)\n",
    "print(arr)\n",
    "  "
   ]
  },
  {
   "cell_type": "code",
   "execution_count": null,
   "id": "0d146ad0",
   "metadata": {},
   "outputs": [],
   "source": []
  }
 ],
 "metadata": {
  "kernelspec": {
   "display_name": "Python 3 (ipykernel)",
   "language": "python",
   "name": "python3"
  },
  "language_info": {
   "codemirror_mode": {
    "name": "ipython",
    "version": 3
   },
   "file_extension": ".py",
   "mimetype": "text/x-python",
   "name": "python",
   "nbconvert_exporter": "python",
   "pygments_lexer": "ipython3",
   "version": "3.11.4"
  }
 },
 "nbformat": 4,
 "nbformat_minor": 5
}
