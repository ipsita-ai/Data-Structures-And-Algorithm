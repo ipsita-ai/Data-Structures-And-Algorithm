{
 "cells": [
  {
   "cell_type": "code",
   "execution_count": 12,
   "id": "57452f78",
   "metadata": {},
   "outputs": [],
   "source": [
    "# Using Pythonic code - Useless code\n",
    "def reverse_string(string):\n",
    "    x = []\n",
    "    for i in string:\n",
    "        x.append(i)\n",
    "    return ''.join(x[-1::-1])"
   ]
  },
  {
   "cell_type": "code",
   "execution_count": 11,
   "id": "fcd5beb2",
   "metadata": {},
   "outputs": [
    {
     "data": {
      "text/plain": [
       "'adnaP atispI'"
      ]
     },
     "execution_count": 11,
     "metadata": {},
     "output_type": "execute_result"
    }
   ],
   "source": [
    "reverse_string('Ipsita Panda')"
   ]
  },
  {
   "cell_type": "code",
   "execution_count": 16,
   "id": "3c674945",
   "metadata": {},
   "outputs": [],
   "source": [
    "# Useless code\n",
    "def string_reverse(string):\n",
    "    rev_str = ''\n",
    "    for i in string[-1::-1]:\n",
    "        rev_str += i\n",
    "    return rev_str"
   ]
  },
  {
   "cell_type": "code",
   "execution_count": 19,
   "id": "c9ad6408",
   "metadata": {},
   "outputs": [
    {
     "data": {
      "text/plain": [
       "'? uoy era woh olleH'"
      ]
     },
     "execution_count": 19,
     "metadata": {},
     "output_type": "execute_result"
    }
   ],
   "source": [
    "string = 'Hello how are you ?'\n",
    "string[-1::-1]"
   ]
  },
  {
   "cell_type": "code",
   "execution_count": 20,
   "id": "be28b6ba",
   "metadata": {},
   "outputs": [
    {
     "data": {
      "text/plain": [
       "'? uoy era woh olleH'"
      ]
     },
     "execution_count": 20,
     "metadata": {},
     "output_type": "execute_result"
    }
   ],
   "source": [
    "string_reverse(string)"
   ]
  },
  {
   "cell_type": "code",
   "execution_count": 39,
   "id": "102043e4",
   "metadata": {},
   "outputs": [],
   "source": [
    "# O(n)\n",
    "def rev_str(string):\n",
    "    length = len(string) - 1\n",
    "    rev_string = ''\n",
    "    # checking input\n",
    "    if (type(string) != str) or length < 1:\n",
    "        return 'No reversal required'\n",
    "    else:\n",
    "    # Code to reverse the string\n",
    "        for i in range(length,-1,-1):\n",
    "            rev_string += string[i]\n",
    "        return rev_string\n",
    "            "
   ]
  },
  {
   "cell_type": "code",
   "execution_count": 38,
   "id": "2d23372f",
   "metadata": {},
   "outputs": [
    {
     "data": {
      "text/plain": [
       "'? uoy era woh olleH'"
      ]
     },
     "execution_count": 38,
     "metadata": {},
     "output_type": "execute_result"
    }
   ],
   "source": [
    "rev_str(string)"
   ]
  },
  {
   "cell_type": "code",
   "execution_count": null,
   "id": "001e9dc2",
   "metadata": {},
   "outputs": [],
   "source": []
  }
 ],
 "metadata": {
  "kernelspec": {
   "display_name": "Python 3 (ipykernel)",
   "language": "python",
   "name": "python3"
  },
  "language_info": {
   "codemirror_mode": {
    "name": "ipython",
    "version": 3
   },
   "file_extension": ".py",
   "mimetype": "text/x-python",
   "name": "python",
   "nbconvert_exporter": "python",
   "pygments_lexer": "ipython3",
   "version": "3.11.4"
  }
 },
 "nbformat": 4,
 "nbformat_minor": 5
}
